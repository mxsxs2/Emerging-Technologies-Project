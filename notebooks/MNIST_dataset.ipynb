{
 "cells": [
  {
   "cell_type": "markdown",
   "metadata": {},
   "source": [
    "# MNIST"
   ]
  },
  {
   "cell_type": "markdown",
   "metadata": {},
   "source": [
    "The MNIST sataset is a collection of handwritten images which are used to train a neural network to recognize digits from a paper. MNIST also provides a dataset for testing the neural network."
   ]
  },
  {
   "cell_type": "markdown",
   "metadata": {},
   "source": [
    "The training dataset contains 60000 pictures and the test dataset contains 10000 pictures. These datasets are in a special format therefore they have to be read byte by byte. \n"
   ]
  },
  {
   "cell_type": "markdown",
   "metadata": {},
   "source": [
    "# Read the training data set\n",
    "The dataset has to be read as big endian. The first four bite is the magic number which identifies the fyle type.\n",
    "The data in this file is a 3 dimensional array:\n",
    "* Bytes 5 to 8 is the number of pictures in the datatset (The size of the outer array)\n",
    "* Bytes 9 to 12 is the number of rows (Size of the middle array) \n",
    "* Bytes 13 to 16 is the number of collumns (Size of the last array)\n",
    "* From byte 17 until the end of the file are the pizels of the picures."
   ]
  },
  {
   "cell_type": "code",
   "execution_count": 11,
   "metadata": {},
   "outputs": [],
   "source": [
    "#https://docs.python.org/3/library/gzip.html\n",
    "import gzip\n",
    "#Unzip the training images\n",
    "with gzip.open('data/train-images-idx3-ubyte.gz', 'rb') as f:\n",
    "    file_content = f.read()"
   ]
  },
  {
   "cell_type": "code",
   "execution_count": 20,
   "metadata": {},
   "outputs": [
    {
     "data": {
      "text/plain": [
       "True"
      ]
     },
     "execution_count": 20,
     "metadata": {},
     "output_type": "execute_result"
    }
   ],
   "source": [
    "#Confirm if the first four byteis 2051\n",
    "int.from_bytes(file_content[0:4], byteorder='big')==2051"
   ]
  },
  {
   "cell_type": "code",
   "execution_count": 25,
   "metadata": {},
   "outputs": [
    {
     "name": "stdout",
     "output_type": "stream",
     "text": [
      "Number of pictures:60000\n"
     ]
    }
   ],
   "source": [
    "#Number of pictures should be from bytes 4 to 8 and should be read in big endian\n",
    "pictures_number=int.from_bytes(file_content[4:8], byteorder='big')\n",
    "print('Number of pictures:'+str(pictures_number))"
   ]
  },
  {
   "cell_type": "code",
   "execution_count": 28,
   "metadata": {},
   "outputs": [
    {
     "name": "stdout",
     "output_type": "stream",
     "text": [
      "Number of rows:28\n"
     ]
    }
   ],
   "source": [
    "#Number of rows should be from 8 to 12\n",
    "rows_number=int.from_bytes(file_content[8:12], byteorder='big')\n",
    "print ('Number of rows:'+str(rows_number))"
   ]
  },
  {
   "cell_type": "code",
   "execution_count": 27,
   "metadata": {},
   "outputs": [
    {
     "name": "stdout",
     "output_type": "stream",
     "text": [
      "Number of columns:28\n"
     ]
    }
   ],
   "source": [
    "#Number of columns should be from 12 to 16\n",
    "columns_number=int.from_bytes(file_content[12:16], byteorder='big')\n",
    "print ('Number of columns:'+str(columns_number))"
   ]
  },
  {
   "cell_type": "markdown",
   "metadata": {},
   "source": [
    "The pixels are from byte 16 until the end of the file. Each 784 batch is a picture(28*28)"
   ]
  }
 ],
 "metadata": {
  "kernelspec": {
   "display_name": "Python 3",
   "language": "python",
   "name": "python3"
  },
  "language_info": {
   "codemirror_mode": {
    "name": "ipython",
    "version": 3
   },
   "file_extension": ".py",
   "mimetype": "text/x-python",
   "name": "python",
   "nbconvert_exporter": "python",
   "pygments_lexer": "ipython3",
   "version": "3.7.0"
  }
 },
 "nbformat": 4,
 "nbformat_minor": 2
}
