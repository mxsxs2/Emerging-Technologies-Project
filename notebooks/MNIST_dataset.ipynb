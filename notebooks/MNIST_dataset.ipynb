{
 "cells": [
  {
   "cell_type": "markdown",
   "metadata": {},
   "source": [
    "# MNIST"
   ]
  },
  {
   "cell_type": "markdown",
   "metadata": {},
   "source": [
    "The MNIST dataset is a collection of handwritten images which are used to train a neural network to recognize digits from a paper. MNIST also provides a dataset for testing the neural network."
   ]
  },
  {
   "cell_type": "markdown",
   "metadata": {},
   "source": [
    "The training dataset contains 60000 pictures and the test dataset contains 10000 pictures. These datasets are in a special format therefore they have to be read byte by byte. \n"
   ]
  },
  {
   "cell_type": "markdown",
   "metadata": {},
   "source": [
    "# Read the training data set\n",
    "The dataset has to be read as big endian. The first four bite is the magic number which identifies the fyle type.\n",
    "The data in this file is a 3 dimensional array:\n",
    "* Bytes 5 to 8 is the number of pictures in the datatset (The size of the outer array)\n",
    "* Bytes 9 to 12 is the number of rows (Size of the middle array) \n",
    "* Bytes 13 to 16 is the number of collumns (Size of the last array)\n",
    "* From byte 17 until the end of the file are the pizels of the picures."
   ]
  },
  {
   "cell_type": "markdown",
   "metadata": {},
   "source": [
    "### Open the file\n",
    "\n",
    "There is two ways are provided to aquire the file and its content:"
   ]
  },
  {
   "cell_type": "markdown",
   "metadata": {},
   "source": [
    "#### Open a local file with gzip\n",
    "This cell is turned into mark down. The file should be loaded only one way"
   ]
  },
  {
   "cell_type": "code",
   "execution_count": null,
   "metadata": {},
   "outputs": [],
   "source": [
    "#https://docs.python.org/3/library/gzip.html\n",
    "import gzip\n",
    "#Unzip the training images\n",
    "\n",
    "with gzip.open('data/train-images-idx3-ubyte.gz', 'rb') as f:\n",
    "    \n",
    "    file_content = f.read()\n",
    "    \n",
    "print('File read in')"
   ]
  },
  {
   "cell_type": "markdown",
   "metadata": {},
   "source": [
    "#### Open a url to download the file and open the downloaded gzip file"
   ]
  },
  {
   "cell_type": "code",
   "execution_count": 28,
   "metadata": {},
   "outputs": [
    {
     "name": "stdout",
     "output_type": "stream",
     "text": [
      "File read in\n"
     ]
    }
   ],
   "source": [
    "#https://stackoverflow.com/questions/2695152/in-python-how-do-i-decode-gzip-encoding\n",
    "#It is a modified version of Michal Niklas's answer\n",
    "import gzip\n",
    "import io\n",
    "from urllib.request import urlopen\n",
    "#Download the file\n",
    "inmemory_file=urlopen('http://yann.lecun.com/exdb/mnist/train-images-idx3-ubyte.gz').read()\n",
    "#Open the file\n",
    "with gzip.open(io.BytesIO(inmemory_file),'rb') as f:\n",
    "    file_content = f.read()\n",
    "print('File read in')"
   ]
  },
  {
   "cell_type": "markdown",
   "metadata": {},
   "source": [
    "### Do byte confirmation and read the first 16 bytes"
   ]
  },
  {
   "cell_type": "code",
   "execution_count": 33,
   "metadata": {},
   "outputs": [
    {
     "name": "stdout",
     "output_type": "stream",
     "text": [
      "Is the magic number correct: True\n"
     ]
    }
   ],
   "source": [
    "#Confirm if the first four byteis 2051\n",
    "is_it_the_right_bytes=int.from_bytes(file_content[0:4], byteorder='big')==2051\n",
    "print('Is the magic number correct: %r' % is_it_the_right_bytes)"
   ]
  },
  {
   "cell_type": "code",
   "execution_count": 34,
   "metadata": {},
   "outputs": [
    {
     "name": "stdout",
     "output_type": "stream",
     "text": [
      "Number of pictures: 60000\n"
     ]
    }
   ],
   "source": [
    "#Number of pictures should be from bytes 4 to 8 and should be read in big endian\n",
    "pictures_number=int.from_bytes(file_content[4:8], byteorder='big')\n",
    "print('Number of pictures: %d' % pictures_number)"
   ]
  },
  {
   "cell_type": "code",
   "execution_count": 35,
   "metadata": {},
   "outputs": [
    {
     "name": "stdout",
     "output_type": "stream",
     "text": [
      "Number of rows: 28\n"
     ]
    }
   ],
   "source": [
    "#Number of rows should be from 8 to 12\n",
    "rows_number=int.from_bytes(file_content[8:12], byteorder='big')\n",
    "print ('Number of rows: %d' % rows_number)"
   ]
  },
  {
   "cell_type": "code",
   "execution_count": 36,
   "metadata": {},
   "outputs": [
    {
     "name": "stdout",
     "output_type": "stream",
     "text": [
      "Number of columns: 28\n"
     ]
    }
   ],
   "source": [
    "#Number of columns should be from 12 to 16\n",
    "columns_number=int.from_bytes(file_content[12:16], byteorder='big')\n",
    "print ('Number of columns: %d' % columns_number)"
   ]
  },
  {
   "cell_type": "markdown",
   "metadata": {},
   "source": [
    "The pixels are from byte 16 until the end of the file. Each 784 batch is a picture(28*28)\n"
   ]
  },
  {
   "cell_type": "markdown",
   "metadata": {},
   "source": [
    "### Read the data into an array\n",
    "\n",
    "The esiest way to read the bytes is to do a while loop. The loop has to start from position 16 as until this position the bytes are set for metadata purpose. \n",
    "\n",
    "The while loop should run until the last byte is consumed, therefore it runs until the size of the ```file_content``` byte array.\n",
    "\n",
    "The iteration step is the size of the number of columns in a picture array: 28.\n",
    "\n",
    "Slices of bytes are taken and converted to int at each iteration from ```file_content```. This converted array is added to a row and the row counter is updated. \n",
    "\n",
    "Once a the row counter exceeds the size of pixel rows of each pixel it is reset to the first row and the picture counter is increased by one."
   ]
  },
  {
   "cell_type": "code",
   "execution_count": 38,
   "metadata": {},
   "outputs": [
    {
     "name": "stdout",
     "output_type": "stream",
     "text": [
      "Content length:47040016\n",
      "Run for 5.687701225280762 seconds.\n",
      "Number of iterations: 1680000\n"
     ]
    }
   ],
   "source": [
    "#Import numpy for creating the base array\n",
    "import numpy as np;\n",
    "#Import time for the speed measurement\n",
    "import time\n",
    "\n",
    "#Print out the size of file_content\n",
    "print('Content length:'+str(len(file_content)))\n",
    "# Set up an array for picture storage\n",
    "training_pictures=np.zeros((pictures_number,rows_number,columns_number),dtype=int)\n",
    "#The starting time of the algorythm\n",
    "start_time = time.time()\n",
    "#Starting off set of loop\n",
    "offset=16\n",
    "#The current row a picture 1-28\n",
    "current_row=1\n",
    "#The current picture 1-59999\n",
    "current_image=0\n",
    "#The iteration index\n",
    "i=offset\n",
    "#Run a loop until the end of the byte array    \n",
    "while i<len(file_content):\n",
    "    #Convert a row to int types\n",
    "    a=[c for c in file_content[i:i+columns_number]]\n",
    "    #Set the row the current picture\n",
    "    training_pictures[current_image][current_row-1]=a\n",
    "    #Go to next row\n",
    "    current_row+=1\n",
    "    #If the current row is the same as the size of the rows\n",
    "    if(current_row>rows_number):\n",
    "        #Set the row to number 1\n",
    "        current_row=1\n",
    "        #Go to the next picture\n",
    "        current_image+=1\n",
    "    #Increase the counter with the size of the columns    \n",
    "    i+=columns_number\n",
    "\n",
    "#Print out the running time of the algorithm\n",
    "print(\"Run for %s seconds.\" % (time.time() - start_time))\n",
    "#The number of iteartions\n",
    "print(\"Number of iterations: %d\" % (i/columns_number))\n"
   ]
  },
  {
   "cell_type": "markdown",
   "metadata": {},
   "source": [
    "### Confirm data\n",
    "\n",
    "To confirm the data was read in correctly, ```matplotlib``` cna be used. This library can plot an array of pixels as a picture.\n",
    "\n",
    "Three different item can be printed from three different position of the arrray. \n",
    "* The first one at index 0\n",
    "* The middle one at index 30000\n",
    "* The last one at index 59999\n",
    "\n",
    "If all three pictures are numbers at the same position on the picture, that means the reading was succesful and there wasn't shifting in the rows or columns."
   ]
  },
  {
   "cell_type": "code",
   "execution_count": 39,
   "metadata": {},
   "outputs": [
    {
     "data": {
      "image/png": "[encoded data removed]",
      "text/plain": [
       "<Figure size 432x288 with 1 Axes>"
      ]
     },
     "metadata": {
      "needs_background": "light"
     },
     "output_type": "display_data"
    },
    {
     "data": {
      "image/png": "[encoded data removed]",
      "text/plain": [
       "<Figure size 432x288 with 1 Axes>"
      ]
     },
     "metadata": {
      "needs_background": "light"
     },
     "output_type": "display_data"
    },
    {
     "data": {
      "image/png": "[encoded data removed]",
      "text/plain": [
       "<Figure size 432x288 with 1 Axes>"
      ]
     },
     "metadata": {
      "needs_background": "light"
     },
     "output_type": "display_data"
    }
   ],
   "source": [
    "#Inlince complant for jupyter compatibility\n",
    "%matplotlib inline \n",
    "#Import matplotlib \n",
    "from matplotlib import pyplot as plt\n",
    "#Set pyplot to gray scale as the pixels are 0 to 255 on graye scale\n",
    "plt.gray()\n",
    "#Plot the first image\n",
    "plt.imshow(training_pictures[0], interpolation='nearest')\n",
    "plt.show()\n",
    "#Plot the middle image\n",
    "plt.imshow(training_pictures[30000], interpolation='nearest')\n",
    "plt.show()\n",
    "#Plot the last image\n",
    "plt.imshow(training_pictures[59999], interpolation='nearest')\n",
    "plt.show()"
   ]
  }
 ],
 "metadata": {
  "kernelspec": {
   "display_name": "Python 3",
   "language": "python",
   "name": "python3"
  },
  "language_info": {
   "codemirror_mode": {
    "name": "ipython",
    "version": 3
   },
   "file_extension": ".py",
   "mimetype": "text/x-python",
   "name": "python",
   "nbconvert_exporter": "python",
   "pygments_lexer": "ipython3",
   "version": "3.7.0"
  }
 },
 "nbformat": 4,
 "nbformat_minor": 2
}
