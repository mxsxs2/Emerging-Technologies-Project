{
 "cells": [
  {
   "cell_type": "markdown",
   "metadata": {},
   "source": [
    "# MNIST"
   ]
  },
  {
   "cell_type": "markdown",
   "metadata": {},
   "source": [
    "The MNIST database is a collection of handwritten images which are used to train a neural network to recognize digits from a paper. MNIST also provides a database for testing the neural network."
   ]
  },
  {
   "cell_type": "markdown",
   "metadata": {},
   "source": [
    "The training imeages file contains 60000 images and the test images file contains 10000 images. These files are in a special format therefore they have to be read byte by byte. \n"
   ]
  },
  {
   "cell_type": "code",
   "execution_count": 126,
   "metadata": {},
   "outputs": [],
   "source": [
    "# Gzip for unzipping the downloaded file\n",
    "import gzip\n",
    "# Io for file reading\n",
    "import io\n",
    "# Urlopen for downloading the fiel\n",
    "from urllib.request import urlopen\n",
    "#Import numpy for creating the base array\n",
    "import numpy as np\n",
    "#Inline complant for jupyter compatibility\n",
    "%matplotlib inline \n",
    "#Import matplotlib \n",
    "from matplotlib import pyplot as plt"
   ]
  },
  {
   "cell_type": "markdown",
   "metadata": {},
   "source": [
    "# Read the training image file\n",
    "The file has to be read as big endian. The first four bite is the magic number which identifies the fyle type.\n",
    "The data in this file is a 3 dimensional array:\n",
    "* Bytes 4 to 8 is the number of pictures in the datatset (The size of the outer array)\n",
    "* Bytes 8 to 12 is the number of rows (Size of the middle array) \n",
    "* Bytes 12 to 16 is the number of collumns (Size of the last array)\n",
    "* From byte 16 until the end of the file are the pizels of the picures."
   ]
  },
  {
   "cell_type": "markdown",
   "metadata": {},
   "source": [
    "### Open the file\n",
    "\n",
    "There is two ways are provided to aquire the file and its content:"
   ]
  },
  {
   "cell_type": "markdown",
   "metadata": {},
   "source": [
    "#### Open a local file with gzip\n",
    "This cell is commented out and here for presentation purposes. The file should be loaded only one way."
   ]
  },
  {
   "cell_type": "code",
   "execution_count": 127,
   "metadata": {},
   "outputs": [],
   "source": [
    "#https://docs.python.org/3/library/gzip.html\n",
    "\n",
    "#import gzip\n",
    "\n",
    "#Unzip the training images\n",
    "\n",
    "#with gzip.open('data/train-images-idx3-ubyte.gz', 'rb') as f:\n",
    "    \n",
    "#    file_content = f.read()\n",
    "    \n",
    "#print('File read in')"
   ]
  },
  {
   "cell_type": "markdown",
   "metadata": {},
   "source": [
    "#### Open a url to download the file and open the downloaded gzip file"
   ]
  },
  {
   "cell_type": "code",
   "execution_count": 128,
   "metadata": {},
   "outputs": [
    {
     "name": "stdout",
     "output_type": "stream",
     "text": [
      "File read in\n"
     ]
    }
   ],
   "source": [
    "#https://stackoverflow.com/questions/2695152/in-python-how-do-i-decode-gzip-encoding\n",
    "#It is a modified version of Michal Niklas's answer\n",
    "#Download the file\n",
    "inmemory_file=urlopen('http://yann.lecun.com/exdb/mnist/train-images-idx3-ubyte.gz').read()\n",
    "#Open the file\n",
    "with gzip.open(io.BytesIO(inmemory_file),'rb') as f:\n",
    "    train_image_file_content = f.read()\n",
    "print('File read in')"
   ]
  },
  {
   "cell_type": "markdown",
   "metadata": {},
   "source": [
    "### Do byte confirmation and read the first 16 bytes"
   ]
  },
  {
   "cell_type": "code",
   "execution_count": 129,
   "metadata": {},
   "outputs": [
    {
     "name": "stdout",
     "output_type": "stream",
     "text": [
      "Is the magic number correct: True\n"
     ]
    }
   ],
   "source": [
    "#Confirm if the first four byteis 2051\n",
    "is_it_the_right_bytes=int.from_bytes(train_image_file_content[0:4], byteorder='big')==2051\n",
    "print('Is the magic number correct: %r' % is_it_the_right_bytes)"
   ]
  },
  {
   "cell_type": "code",
   "execution_count": 130,
   "metadata": {},
   "outputs": [
    {
     "name": "stdout",
     "output_type": "stream",
     "text": [
      "Number of pictures: 60000\n"
     ]
    }
   ],
   "source": [
    "#Number of pictures should be from bytes 4 to 8 and should be read in big endian\n",
    "pictures_number=int.from_bytes(train_image_file_content[4:8], byteorder='big')\n",
    "print('Number of pictures: %d' % pictures_number)"
   ]
  },
  {
   "cell_type": "code",
   "execution_count": 131,
   "metadata": {},
   "outputs": [
    {
     "name": "stdout",
     "output_type": "stream",
     "text": [
      "Number of rows: 28\n"
     ]
    }
   ],
   "source": [
    "#Number of rows should be from 8 to 12\n",
    "rows_number=int.from_bytes(train_image_file_content[8:12], byteorder='big')\n",
    "print ('Number of rows: %d' % rows_number)"
   ]
  },
  {
   "cell_type": "code",
   "execution_count": 132,
   "metadata": {},
   "outputs": [
    {
     "name": "stdout",
     "output_type": "stream",
     "text": [
      "Number of columns: 28\n"
     ]
    }
   ],
   "source": [
    "#Number of columns should be from 12 to 16\n",
    "columns_number=int.from_bytes(train_image_file_content[12:16], byteorder='big')\n",
    "print ('Number of columns: %d' % columns_number)"
   ]
  },
  {
   "cell_type": "markdown",
   "metadata": {},
   "source": [
    "The pixels are from byte 16 until the end of the file. Each 784 batch is a picture(28*28)\n"
   ]
  },
  {
   "cell_type": "markdown",
   "metadata": {},
   "source": [
    "### Read the data into an array\n",
    "\n",
    "The esiest way to read the bytes is to do a while loop. The loop has to start from position 16 as until this position the bytes are set for metadata purpose. \n",
    "\n",
    "The while loop should run until the last byte is consumed, therefore it runs until the size of the ```file_content``` byte array.\n",
    "\n",
    "The iteration step is the size of the number of columns in a picture array: 28.\n",
    "\n",
    "Slices of bytes are taken and converted to int at each iteration from ```file_content```. This converted array is added to a row and the row counter is updated. \n",
    "\n",
    "Once a the row counter exceeds the size of pixel rows of each pixel it is reset to the first row and the picture counter is increased by one."
   ]
  },
  {
   "cell_type": "code",
   "execution_count": 133,
   "metadata": {},
   "outputs": [],
   "source": [
    "#Function taking the file content,number of pictures, number of columns, number of rows and the starting offset\n",
    "#It converst the file content byte by byte into an int and collects it into a 3D array and returns the array\n",
    "def load_pictures_to_array(file_content,pictures_number,columns_number,rows_number,offset):\n",
    "    # Set up an array for picture storage\n",
    "    pictures=np.zeros((pictures_number,rows_number,columns_number),dtype=int)\n",
    "    #The current row a picture 1-28\n",
    "    current_row=1\n",
    "    #The current picture 1-59999\n",
    "    current_image=0\n",
    "    #The iteration index\n",
    "    i=offset\n",
    "    #Run a loop until the end of the byte array    \n",
    "    while i<len(file_content):\n",
    "        #Convert a row to int types\n",
    "        a=np.frombuffer(file_content[i:i+columns_number],dtype=np.uint8)\n",
    "        #Set the row the current picture\n",
    "        pictures[current_image][current_row-1]=a\n",
    "        #Go to next row\n",
    "        current_row+=1\n",
    "        #If the current row is the same as the size of the rows\n",
    "        if(current_row>rows_number):\n",
    "            #Set the row to number 1\n",
    "            current_row=1\n",
    "            #Go to the next picture\n",
    "            current_image+=1\n",
    "        #Increase the counter with the size of the columns    \n",
    "        i+=columns_number\n",
    "    return pictures"
   ]
  },
  {
   "cell_type": "code",
   "execution_count": 134,
   "metadata": {},
   "outputs": [
    {
     "name": "stdout",
     "output_type": "stream",
     "text": [
      "Original content length:10008\n",
      "Run for 2.616062879562378 seconds.\n"
     ]
    }
   ],
   "source": [
    "#Import time for the speed measurement\n",
    "import time\n",
    "\n",
    "#Print out the size of file_content\n",
    "print('Original content length:'+str(len(file_content)))\n",
    "#The starting time of the algorythm\n",
    "start_time = time.time()\n",
    "#Read pictures into an array\n",
    "training_pictures = load_pictures_to_array(train_image_file_content,pictures_number,columns_number,rows_number,16)\n",
    "\n",
    "#Print out the running time of the algorithm\n",
    "print(\"Run for %s seconds.\" % (time.time() - start_time))\n"
   ]
  },
  {
   "cell_type": "markdown",
   "metadata": {},
   "source": [
    "### Confirm data\n",
    "\n",
    "To confirm the data was read in correctly, ```matplotlib``` can be used. This library can plot an array of pixels as a picture.\n",
    "\n",
    "Three different item can be printed from three different position of the arrray. \n",
    "* The first one at index 0\n",
    "* The middle one at index 30000\n",
    "* The last one at index 59999\n",
    "\n",
    "If all three pictures are numbers at the same position on the picture, that means the reading was succesful and there wasn't shifting in the rows or columns."
   ]
  },
  {
   "cell_type": "code",
   "execution_count": 135,
   "metadata": {},
   "outputs": [
    {
     "data": {
      "text/plain": [
       "<matplotlib.image.AxesImage at 0x23f01bb2c18>"
      ]
     },
     "execution_count": 135,
     "metadata": {},
     "output_type": "execute_result"
    },
    {
     "data": {
      "image/png": "[encoded data removed]",
      "text/plain": [
       "<Figure size 1224x576 with 3 Axes>"
      ]
     },
     "metadata": {
      "needs_background": "light"
     },
     "output_type": "display_data"
    }
   ],
   "source": [
    "#Create figure\n",
    "fig = plt.figure(figsize=(17,8))\n",
    "#Set pyplot to gray scale as the pixels are 0 to 255 on graye scale\n",
    "plt.gray()\n",
    "p=fig.add_subplot(131)\n",
    "#Plot the first image\n",
    "p.imshow(training_pictures[0], interpolation='nearest')\n",
    "#Plot the middle image\n",
    "p2=fig.add_subplot(132)\n",
    "p2.imshow(training_pictures[30000], interpolation='nearest')\n",
    "#Plot the last image\n",
    "p3=fig.add_subplot(133)\n",
    "p3.imshow(training_pictures[59999], interpolation='nearest')"
   ]
  },
  {
   "cell_type": "markdown",
   "metadata": {},
   "source": [
    "# Read the labels for the training images\n",
    "The file has to be read as big endian. The first four bite is the magic number which identifies the fyle type.\n",
    "The data in this file is an array:\n",
    "* Bytes 5 to 8 is the number of labels in the datatset (The size of the outer array)\n",
    "* From byte 9 until the end of the file each byte is a label."
   ]
  },
  {
   "cell_type": "markdown",
   "metadata": {},
   "source": [
    "### Open the file"
   ]
  },
  {
   "cell_type": "code",
   "execution_count": 136,
   "metadata": {
    "scrolled": true
   },
   "outputs": [
    {
     "name": "stdout",
     "output_type": "stream",
     "text": [
      "File read in\n"
     ]
    }
   ],
   "source": [
    "#Download the file\n",
    "inmemory_file=urlopen('http://yann.lecun.com/exdb/mnist/train-labels-idx1-ubyte.gz').read()\n",
    "#Open the file\n",
    "with gzip.open(io.BytesIO(inmemory_file),'rb') as f:\n",
    "    #Overides the previously used file_content\n",
    "    train_label_file_content = f.read() \n",
    "print('File read in')"
   ]
  },
  {
   "cell_type": "markdown",
   "metadata": {},
   "source": [
    "### Do byte confirmation and read the first 8 bytes"
   ]
  },
  {
   "cell_type": "code",
   "execution_count": 137,
   "metadata": {},
   "outputs": [
    {
     "name": "stdout",
     "output_type": "stream",
     "text": [
      "Is the magic number correct: True\n"
     ]
    }
   ],
   "source": [
    "#Confirm if the first four byteis 2049\n",
    "is_it_the_right_bytes=int.from_bytes(train_label_file_content[0:4], byteorder='big')==2049\n",
    "print('Is the magic number correct: %r' % is_it_the_right_bytes)"
   ]
  },
  {
   "cell_type": "code",
   "execution_count": 138,
   "metadata": {
    "scrolled": false
   },
   "outputs": [
    {
     "name": "stdout",
     "output_type": "stream",
     "text": [
      "Number of Labels: 60000\n"
     ]
    }
   ],
   "source": [
    "#Number of pictures should be from bytes 4 to 8 and should be read in big endian\n",
    "label_number=int.from_bytes(train_label_file_content[4:8], byteorder='big')\n",
    "print('Number of Labels: %d' % label_number)"
   ]
  },
  {
   "cell_type": "markdown",
   "metadata": {},
   "source": [
    "### Read the data into an array\n",
    "\n",
    "The reading happens the same way as the reading of pictures. This time a simple int array is loaded in."
   ]
  },
  {
   "cell_type": "code",
   "execution_count": 139,
   "metadata": {},
   "outputs": [],
   "source": [
    "#Function taking the file content,number of labels, and the starting offset\n",
    "#It converst the file content byte by byte into an int and collects it into an array and returns the array\n",
    "def load_labels_to_array(file_content,label_number,offset=0):\n",
    "    # Collect the files into an array.\n",
    "    labels=np.frombuffer(file_content[offset:label_number+offset],dtype=np.uint8)\n",
    "    return labels"
   ]
  },
  {
   "cell_type": "code",
   "execution_count": 140,
   "metadata": {},
   "outputs": [
    {
     "name": "stdout",
     "output_type": "stream",
     "text": [
      "Origonal content length:10008\n",
      "Run for 0.0 seconds.\n"
     ]
    }
   ],
   "source": [
    "#Print out the size of file_content\n",
    "print('Origonal content length:'+str(len(file_content)))\n",
    "#The starting time of the algorythm\n",
    "start_time = time.time()\n",
    "#Convert label bytes to numbers and collect to an array\n",
    "training_labels=load_labels_to_array(train_label_file_content,label_number,8)\n",
    "#Print out the running time of the algorithm\n",
    "print(\"Run for %s seconds.\" % (time.time() - start_time))"
   ]
  },
  {
   "cell_type": "markdown",
   "metadata": {},
   "source": [
    "### Confirm data\n",
    "\n",
    "To confirm the data was read in correctly, the same indexes should be checked in the label array as in the training picture array:\n",
    "\n",
    "Three different item can be printed from three different positions of the arrray. \n",
    "* The first one at index 0\n",
    "* The middle one at index 30000\n",
    "* The last one at index 59999\n",
    "\n",
    "If all three numbers are the same numbers as the pictures presented above then the conversion was succesful."
   ]
  },
  {
   "cell_type": "code",
   "execution_count": 141,
   "metadata": {
    "scrolled": true
   },
   "outputs": [
    {
     "name": "stdout",
     "output_type": "stream",
     "text": [
      "Number of labels: 60000\n",
      "Label at index 0: 5\n",
      "Label at index 30000: 3\n",
      "Label at index 59999: 8\n"
     ]
    }
   ],
   "source": [
    "print(\"Number of labels: %d\" % len(training_labels))\n",
    "print(\"Label at index 0: %d\" % training_labels[0])\n",
    "print(\"Label at index 30000: %d\" % training_labels[30000])\n",
    "print(\"Label at index 59999: %d\" % training_labels[59999])"
   ]
  },
  {
   "cell_type": "markdown",
   "metadata": {},
   "source": [
    "# Read the test image file\n",
    "This file is the same format as the training image file.\n",
    "The data in this file is a 3 dimensional array:\n",
    "* Bytes 4 to 8 is the number of pictures in the datatset (The size of the outer array)\n",
    "* Bytes 8 to 12 is the number of rows (Size of the middle array) \n",
    "* Bytes 12 to 16 is the number of collumns (Size of the last array)\n",
    "* From byte 16 until the end of the file are the pizels of the picures."
   ]
  },
  {
   "cell_type": "markdown",
   "metadata": {},
   "source": [
    "### Open the file"
   ]
  },
  {
   "cell_type": "markdown",
   "metadata": {},
   "source": [
    "#### Open a url to download the file and open the downloaded gzip file"
   ]
  },
  {
   "cell_type": "code",
   "execution_count": 142,
   "metadata": {},
   "outputs": [
    {
     "name": "stdout",
     "output_type": "stream",
     "text": [
      "File read in\n"
     ]
    }
   ],
   "source": [
    "#Download the file\n",
    "inmemory_file=urlopen('http://yann.lecun.com/exdb/mnist/t10k-images-idx3-ubyte.gz').read()\n",
    "#Open the file\n",
    "with gzip.open(io.BytesIO(inmemory_file),'rb') as f:\n",
    "    #Overides the previously used file_content\n",
    "    test_image_file_content = f.read()\n",
    "print('File read in')"
   ]
  },
  {
   "cell_type": "markdown",
   "metadata": {},
   "source": [
    "### Do byte confirmation and read the first 16 bytes"
   ]
  },
  {
   "cell_type": "code",
   "execution_count": 143,
   "metadata": {},
   "outputs": [
    {
     "name": "stdout",
     "output_type": "stream",
     "text": [
      "Is the magic number correct: True\n"
     ]
    }
   ],
   "source": [
    "#Confirm if the first four byteis 2051\n",
    "is_it_the_right_bytes=int.from_bytes(test_image_file_content[0:4], byteorder='big')==2051\n",
    "print('Is the magic number correct: %r' % is_it_the_right_bytes)"
   ]
  },
  {
   "cell_type": "code",
   "execution_count": 144,
   "metadata": {},
   "outputs": [
    {
     "name": "stdout",
     "output_type": "stream",
     "text": [
      "Number of pictures: 10000\n"
     ]
    }
   ],
   "source": [
    "#Number of pictures should be from bytes 4 to 8 and should be read in big endian\n",
    "test_pictures_number=int.from_bytes(test_image_file_content[4:8], byteorder='big')\n",
    "print('Number of pictures: %d' % test_pictures_number)"
   ]
  },
  {
   "cell_type": "code",
   "execution_count": 145,
   "metadata": {},
   "outputs": [
    {
     "name": "stdout",
     "output_type": "stream",
     "text": [
      "Number of rows: 28\n"
     ]
    }
   ],
   "source": [
    "#Number of rows should be from 8 to 12\n",
    "test_rows_number=int.from_bytes(test_image_file_content[8:12], byteorder='big')\n",
    "print ('Number of rows: %d' % test_rows_number)"
   ]
  },
  {
   "cell_type": "code",
   "execution_count": 146,
   "metadata": {},
   "outputs": [
    {
     "name": "stdout",
     "output_type": "stream",
     "text": [
      "Number of columns: 28\n"
     ]
    }
   ],
   "source": [
    "#Number of columns should be from 12 to 16\n",
    "test_columns_number=int.from_bytes(test_image_file_content[12:16], byteorder='big')\n",
    "print ('Number of columns: %d' % test_columns_number)"
   ]
  },
  {
   "cell_type": "markdown",
   "metadata": {},
   "source": [
    "The pixels are from byte 16 until the end of the file. Each 784 batch is a picture(28*28)\n"
   ]
  },
  {
   "cell_type": "markdown",
   "metadata": {},
   "source": [
    "### Read the data into an array\n",
    "\n",
    "The reading is done with the above defined function the exact same way as the reading of training images."
   ]
  },
  {
   "cell_type": "code",
   "execution_count": 147,
   "metadata": {},
   "outputs": [
    {
     "name": "stdout",
     "output_type": "stream",
     "text": [
      "Origonal content length:10008\n",
      "Run for 0.4337313175201416 seconds.\n"
     ]
    }
   ],
   "source": [
    "#Print out the size of file_content\n",
    "print('Origonal content length:'+str(len(file_content)))\n",
    "#The starting time of the algorythm\n",
    "start_time = time.time()\n",
    "#Read pictures into an array\n",
    "test_pictures = load_pictures_to_array(test_image_file_content,test_pictures_number,test_columns_number,test_rows_number,16)\n",
    "#Print out the running time of the algorithm\n",
    "print(\"Run for %s seconds.\" % (time.time() - start_time))\n"
   ]
  },
  {
   "cell_type": "markdown",
   "metadata": {},
   "source": [
    "### Confirm data\n",
    "\n",
    "To confirm the data was read in correctly, ```matplotlib``` can be used the same way as above with the training data set. \n",
    "\n",
    "Three different item can be printed from three different positions of the arrray. \n",
    "* The first one at index 0\n",
    "* The middle one at index 5000\n",
    "* The last one at index 9999\n"
   ]
  },
  {
   "cell_type": "code",
   "execution_count": 148,
   "metadata": {},
   "outputs": [
    {
     "data": {
      "text/plain": [
       "<matplotlib.image.AxesImage at 0x23f001694e0>"
      ]
     },
     "execution_count": 148,
     "metadata": {},
     "output_type": "execute_result"
    },
    {
     "data": {
      "image/png": "[encoded data removed]",
      "text/plain": [
       "<Figure size 1224x576 with 3 Axes>"
      ]
     },
     "metadata": {
      "needs_background": "light"
     },
     "output_type": "display_data"
    }
   ],
   "source": [
    "#Create figure\n",
    "fig = plt.figure(figsize=(17,8))\n",
    "#Set pyplot to gray scale as the pixels are 0 to 255 on graye scale\n",
    "plt.gray()\n",
    "p=fig.add_subplot(131)\n",
    "#Plot the first image\n",
    "p.imshow(test_pictures[0], interpolation='nearest')\n",
    "#Plot the middle image\n",
    "p2=fig.add_subplot(132)\n",
    "p2.imshow(test_pictures[5000], interpolation='nearest')\n",
    "#Plot the last image\n",
    "p3=fig.add_subplot(133)\n",
    "p3.imshow(test_pictures[9999], interpolation='nearest')"
   ]
  },
  {
   "cell_type": "markdown",
   "metadata": {},
   "source": [
    "# Read the labels for the test images\n",
    "This file is the same format as the training label file.\n",
    "The data in this file is an array:\n",
    "* Bytes 5 to 8 is the number of labels in the datatset (The size of the outer array)\n",
    "* From byte 9 until the end of the file each byte is a label."
   ]
  },
  {
   "cell_type": "markdown",
   "metadata": {},
   "source": [
    "### Open the file"
   ]
  },
  {
   "cell_type": "code",
   "execution_count": 149,
   "metadata": {
    "scrolled": true
   },
   "outputs": [
    {
     "name": "stdout",
     "output_type": "stream",
     "text": [
      "File read in\n"
     ]
    }
   ],
   "source": [
    "#Download the file\n",
    "inmemory_file=urlopen('http://yann.lecun.com/exdb/mnist/t10k-labels-idx1-ubyte.gz').read()\n",
    "#Open the file\n",
    "with gzip.open(io.BytesIO(inmemory_file),'rb') as f:\n",
    "    #Overides the previously used file_content\n",
    "    test_label_file_content = f.read() \n",
    "print('File read in')"
   ]
  },
  {
   "cell_type": "markdown",
   "metadata": {},
   "source": [
    "### Do byte confirmation and read the first 8 bytes"
   ]
  },
  {
   "cell_type": "code",
   "execution_count": 150,
   "metadata": {},
   "outputs": [
    {
     "name": "stdout",
     "output_type": "stream",
     "text": [
      "Is the magic number correct: True\n"
     ]
    }
   ],
   "source": [
    "#Confirm if the first four byteis 2049\n",
    "is_it_the_right_bytes=int.from_bytes(test_label_file_content[0:4], byteorder='big')==2049\n",
    "print('Is the magic number correct: %r' % is_it_the_right_bytes)"
   ]
  },
  {
   "cell_type": "code",
   "execution_count": 151,
   "metadata": {
    "scrolled": false
   },
   "outputs": [
    {
     "name": "stdout",
     "output_type": "stream",
     "text": [
      "Number of Labels: 10000\n"
     ]
    }
   ],
   "source": [
    "#Number of pictures should be from bytes 4 to 8 and should be read in big endian\n",
    "label_number=int.from_bytes(test_label_file_content[4:8], byteorder='big')\n",
    "print('Number of Labels: %d' % label_number)"
   ]
  },
  {
   "cell_type": "markdown",
   "metadata": {},
   "source": [
    "### Read the data into an array\n",
    "\n",
    "The reading is done with the above defined function the exact same way as the reading of training labels."
   ]
  },
  {
   "cell_type": "code",
   "execution_count": 152,
   "metadata": {},
   "outputs": [
    {
     "name": "stdout",
     "output_type": "stream",
     "text": [
      "Origonal content length:10008\n",
      "Run for 0.0 seconds.\n"
     ]
    }
   ],
   "source": [
    "#Print out the size of file_content\n",
    "print('Origonal content length:'+str(len(file_content)))\n",
    "#The starting time of the algorythm\n",
    "start_time = time.time()\n",
    "#Convert label bytes to numbers and collect to an array\n",
    "test_labels=load_labels_to_array(test_label_file_content,label_number,8)\n",
    "#Print out the running time of the algorithm\n",
    "print(\"Run for %s seconds.\" % (time.time() - start_time))"
   ]
  },
  {
   "cell_type": "markdown",
   "metadata": {},
   "source": [
    "### Confirm data\n",
    "\n",
    "To confirm the data was read in correctly, the same indexes should be checked in the label array as in the training picture array:\n",
    "\n",
    "Three different item can be printed from three different positions of the arrray. \n",
    "* The first one at index 0\n",
    "* The middle one at index 30000\n",
    "* The last one at index 59999\n",
    "\n",
    "If all three numbers are the same numbers as the pictures presented above then the conversion was succesful."
   ]
  },
  {
   "cell_type": "code",
   "execution_count": 153,
   "metadata": {
    "scrolled": true
   },
   "outputs": [
    {
     "name": "stdout",
     "output_type": "stream",
     "text": [
      "Number of labels: 10000\n",
      "Label at index 0: 7\n",
      "Label at index 30000: 3\n",
      "Label at index 59999: 6\n"
     ]
    }
   ],
   "source": [
    "print(\"Number of labels: %d\" % len(test_labels))\n",
    "print(\"Label at index 0: %d\" % test_labels[0])\n",
    "print(\"Label at index 30000: %d\" % test_labels[5000])\n",
    "print(\"Label at index 59999: %d\" % test_labels[9999])"
   ]
  },
  {
   "cell_type": "markdown",
   "metadata": {},
   "source": [
    "# Performance\n",
    "In this section I compare the different versions of parsing algorihtm I developed with numpy and the example from lecture notes. It is kind of \"evolution\" of algorithm. \n",
    "## New algorithm\n",
    "The above methods do not perform well. 2.6 seconds for 60000 pictures is slow. In the digit recognition script I optimalized the image and label parsing process.\n",
    "\n",
    "The new algorithm merges the image and label reading into one loop. At each iteration 784 items are taken from the raw images file and added to the image array, at the same time 1 label is taken from the label file and added to the label array. This process produces faster reading times."
   ]
  },
  {
   "cell_type": "code",
   "execution_count": 154,
   "metadata": {},
   "outputs": [],
   "source": [
    "def loadimagesAndLabelsToArrays(image_file_content, images_number: int, columns_number: int, rows_number: int, images_offset: int, label_file_content, labels_offset: int):\n",
    "        \"\"\"\n",
    "        Loads a set of images and labels into two arrays.\n",
    "        The number of images and labels has to match\n",
    "        The method does not reads in each image flat as columns_number*rows_number.\n",
    "        \"\"\"\n",
    "        # Set up an array for image storage\n",
    "        images = np.zeros(\n",
    "            (images_number, columns_number*rows_number), dtype=float)\n",
    "        labels = np.zeros(\n",
    "            (images_number), dtype=int)\n",
    "        # The current image 1-59999\n",
    "        current_image = 0\n",
    "        # The iteration index\n",
    "        i = images_offset\n",
    "        print(\"Converting images and labels to array. Number of items: %d\" %\n",
    "              images_number)\n",
    "        # Run a loop until the end of the byte array\n",
    "        while i < len(image_file_content):\n",
    "            # Convert a row to float types and normalise it for better machine learning performance\n",
    "            a = np.frombuffer(\n",
    "                image_file_content[i:i+columns_number*rows_number], dtype=np.uint8)\n",
    "            # Set the current image\n",
    "            images[current_image] = a\n",
    "            # Normalise the numbers to be between 0 and 1\n",
    "            images[current_image] /= 255\n",
    "            # Read in the label for this image\n",
    "            labels[current_image] = int.from_bytes(\n",
    "                label_file_content[current_image+labels_offset:current_image+labels_offset+1], byteorder='big')\n",
    "            # Go to the next image\n",
    "            current_image += 1\n",
    "            # Increase the counter with the size of the columns\n",
    "            i += columns_number*rows_number\n",
    "        return images, labels"
   ]
  },
  {
   "cell_type": "code",
   "execution_count": 155,
   "metadata": {},
   "outputs": [
    {
     "name": "stdout",
     "output_type": "stream",
     "text": [
      "Converting images and labels to array. Number of items: 60000\n",
      "Converting images and labels to array. Number of items: 10000\n",
      "Run for 0.6782486438751221 seconds.\n"
     ]
    }
   ],
   "source": [
    "#The starting time of the algorythm\n",
    "start_time = time.time()\n",
    "#Read pictures and labels into an array\n",
    "training_pictures, training_labels= loadimagesAndLabelsToArrays(train_image_file_content,60000,columns_number,rows_number,16,train_label_file_content,8)\n",
    "test_pictures, test_labels= loadimagesAndLabelsToArrays(test_image_file_content,10000,columns_number,rows_number,16,test_label_file_content,8)\n",
    "own_algo_time=time.time() - start_time\n",
    "#Print out the running time of the algorithm\n",
    "print(\"Run for %s seconds.\" % own_algo_time)"
   ]
  },
  {
   "cell_type": "markdown",
   "metadata": {},
   "source": [
    "## Example reading way from class\n",
    "The reading is a one liner for each file, which is a simple way, but if we break it down to what happens:\n",
    "1. Convert bytes to a list\n",
    "2. Convert list to np.array\n",
    "3. Reshape the array\n",
    "4. Change type of items\n",
    "\n",
    "It loops the content four times(and who nows how many inner loop can be there), which is not efficient at all."
   ]
  },
  {
   "cell_type": "code",
   "execution_count": 156,
   "metadata": {},
   "outputs": [
    {
     "name": "stdout",
     "output_type": "stream",
     "text": [
      "Run for 3.4479610919952393 seconds.\n"
     ]
    }
   ],
   "source": [
    "#The starting time of the algorythm\n",
    "start_time = time.time()\n",
    "training_pictures = ~np.array(list(train_image_file_content[16:])).reshape(60000, 784).astype(np.uint8)\n",
    "training_labels =  np.array(list(train_label_file_content[ 8:])).astype(np.uint8)\n",
    "test_pictures = ~np.array(list(test_image_file_content[16:])).reshape(10000, 784).astype(np.uint8)\n",
    "test_labels =  np.array(list(test_label_file_content[ 8:])).astype(np.uint8)\n",
    "example_code_time=time.time() - start_time\n",
    "#Print out the running time of the algorithm\n",
    "print(\"Run for %s seconds.\" % (time.time() - start_time))\n"
   ]
  },
  {
   "cell_type": "markdown",
   "metadata": {},
   "source": [
    "## Quickest solution with numpy\n",
    "I changed the above array and list conversion to `np.frombuffer`. This solutions parses the files under ~0.3 seconds"
   ]
  },
  {
   "cell_type": "code",
   "execution_count": 157,
   "metadata": {},
   "outputs": [],
   "source": [
    "def __loadimagesAndLabelsToArrays(image_file_content, images_number: int, columns_number: int, rows_number: int, images_offset: int, label_file_content, labels_offset: int):\n",
    "        \"\"\"\n",
    "        Loads a set of images and labels into two arrays.\n",
    "        The number of images and labels has to match\n",
    "        The method reads in each image flat as columns_number*rows_number.\n",
    "        \"\"\"\n",
    "        images = np.frombuffer(image_file_content[images_offset:], dtype=np.uint8).reshape(\n",
    "            images_number, columns_number*rows_number)/255\n",
    "        labels = np.frombuffer(\n",
    "            label_file_content[labels_offset:], dtype=np.uint8)\n",
    "        return images, labels"
   ]
  },
  {
   "cell_type": "code",
   "execution_count": 158,
   "metadata": {},
   "outputs": [
    {
     "name": "stdout",
     "output_type": "stream",
     "text": [
      "Run for 0.24209928512573242 seconds.\n"
     ]
    }
   ],
   "source": [
    "#The starting time of the algorythm\n",
    "start_time = time.time()\n",
    "#Read pictures and labels into an array\n",
    "training_pictures, training_labels= __loadimagesAndLabelsToArrays(train_image_file_content,60000,columns_number,rows_number,16,train_label_file_content,8)\n",
    "test_pictures, test_labels= __loadimagesAndLabelsToArrays(test_image_file_content,10000,columns_number,rows_number,16,test_label_file_content,8)\n",
    "own_algo_time=time.time() - start_time\n",
    "#Print out the running time of the algorithm\n",
    "print(\"Run for %s seconds.\" % own_algo_time)"
   ]
  },
  {
   "cell_type": "markdown",
   "metadata": {},
   "source": [
    "# Conclusion\n",
    "Dispite the large file size all the files can be read in under ~0.3 seconds.\n",
    "\n",
    "At the beginning of the notebook I used separate reading for images and labels and I stored each image as a 2D(28*28) array. This allowed me to easily plot the pictures for proof of read. This way it took about 3 seconds in total to both of the images and labels files.\n",
    "\n",
    "During the development of digit recognition script I created a new algorithm wich is more efficient. It parses all the files under 1 second.\n",
    "\n",
    "I took the example from the lecture notes to measure the prefrmance of it.\n",
    "\n",
    "At last I created my own numpy version.\n",
    "\n",
    "## Comparison of speed\n",
    "| Algorithm          | Parsing time  |\n",
    "| ------------------ |:-------------:|\n",
    "| Numpy version      | ~0.3 seconds  |\n",
    "| New algorithm      | ~0.6 seconds  |\n",
    "| Original algorithm | ~3 seconds    |\n",
    "| Class example      | ~3.45 seconds |\n",
    "\n",
    "It is nicely visible in the table, my algorithms were getting quicker, but turns out the quickest solutions can be done with numpy one liners.\n"
   ]
  }
 ],
 "metadata": {
  "kernelspec": {
   "display_name": "Python 3",
   "language": "python",
   "name": "python3"
  },
  "language_info": {
   "codemirror_mode": {
    "name": "ipython",
    "version": 3
   },
   "file_extension": ".py",
   "mimetype": "text/x-python",
   "name": "python",
   "nbconvert_exporter": "python",
   "pygments_lexer": "ipython3",
   "version": "3.6.0"
  }
 },
 "nbformat": 4,
 "nbformat_minor": 2
}
