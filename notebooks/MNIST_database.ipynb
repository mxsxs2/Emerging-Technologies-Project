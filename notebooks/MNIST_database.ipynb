{
 "cells": [
  {
   "cell_type": "markdown",
   "metadata": {},
   "source": [
    "# MNIST"
   ]
  },
  {
   "cell_type": "markdown",
   "metadata": {},
   "source": [
    "The MNIST database is a collection of handwritten images which are used to train a neural network to recognize digits from a paper. MNIST also provides a database for testing the neural network."
   ]
  },
  {
   "cell_type": "markdown",
   "metadata": {},
   "source": [
    "The training imeages file contains 60000 images and the test images file contains 10000 images. These files are in a special format therefore they have to be read byte by byte. \n"
   ]
  },
  {
   "cell_type": "markdown",
   "metadata": {},
   "source": [
    "# Read the training image file\n",
    "The file has to be read as big endian. The first four bite is the magic number which identifies the fyle type.\n",
    "The data in this file is a 3 dimensional array:\n",
    "* Bytes 4 to 8 is the number of pictures in the datatset (The size of the outer array)\n",
    "* Bytes 8 to 12 is the number of rows (Size of the middle array) \n",
    "* Bytes 12 to 16 is the number of collumns (Size of the last array)\n",
    "* From byte 16 until the end of the file are the pizels of the picures."
   ]
  },
  {
   "cell_type": "markdown",
   "metadata": {},
   "source": [
    "### Open the file\n",
    "\n",
    "There is two ways are provided to aquire the file and its content:"
   ]
  },
  {
   "cell_type": "markdown",
   "metadata": {},
   "source": [
    "#### Open a local file with gzip\n",
    "This cell is commented out and here for presentation purposes. The file should be loaded only one way."
   ]
  },
  {
   "cell_type": "code",
   "execution_count": 1,
   "metadata": {},
   "outputs": [],
   "source": [
    "#https://docs.python.org/3/library/gzip.html\n",
    "\n",
    "#import gzip\n",
    "\n",
    "#Unzip the training images\n",
    "\n",
    "#with gzip.open('data/train-images-idx3-ubyte.gz', 'rb') as f:\n",
    "    \n",
    "#    file_content = f.read()\n",
    "    \n",
    "#print('File read in')"
   ]
  },
  {
   "cell_type": "markdown",
   "metadata": {},
   "source": [
    "#### Open a url to download the file and open the downloaded gzip file"
   ]
  },
  {
   "cell_type": "code",
   "execution_count": 2,
   "metadata": {},
   "outputs": [
    {
     "name": "stdout",
     "output_type": "stream",
     "text": [
      "File read in\n"
     ]
    }
   ],
   "source": [
    "#https://stackoverflow.com/questions/2695152/in-python-how-do-i-decode-gzip-encoding\n",
    "#It is a modified version of Michal Niklas's answer\n",
    "import gzip\n",
    "import io\n",
    "from urllib.request import urlopen\n",
    "#Download the file\n",
    "inmemory_file=urlopen('http://yann.lecun.com/exdb/mnist/train-images-idx3-ubyte.gz').read()\n",
    "#Open the file\n",
    "with gzip.open(io.BytesIO(inmemory_file),'rb') as f:\n",
    "    file_content = f.read()\n",
    "print('File read in')"
   ]
  },
  {
   "cell_type": "markdown",
   "metadata": {},
   "source": [
    "### Do byte confirmation and read the first 16 bytes"
   ]
  },
  {
   "cell_type": "code",
   "execution_count": 3,
   "metadata": {},
   "outputs": [
    {
     "name": "stdout",
     "output_type": "stream",
     "text": [
      "Is the magic number correct: True\n"
     ]
    }
   ],
   "source": [
    "#Confirm if the first four byteis 2051\n",
    "is_it_the_right_bytes=int.from_bytes(file_content[0:4], byteorder='big')==2051\n",
    "print('Is the magic number correct: %r' % is_it_the_right_bytes)"
   ]
  },
  {
   "cell_type": "code",
   "execution_count": 4,
   "metadata": {},
   "outputs": [
    {
     "name": "stdout",
     "output_type": "stream",
     "text": [
      "Number of pictures: 60000\n"
     ]
    }
   ],
   "source": [
    "#Number of pictures should be from bytes 4 to 8 and should be read in big endian\n",
    "pictures_number=int.from_bytes(file_content[4:8], byteorder='big')\n",
    "print('Number of pictures: %d' % pictures_number)"
   ]
  },
  {
   "cell_type": "code",
   "execution_count": 5,
   "metadata": {},
   "outputs": [
    {
     "name": "stdout",
     "output_type": "stream",
     "text": [
      "Number of rows: 28\n"
     ]
    }
   ],
   "source": [
    "#Number of rows should be from 8 to 12\n",
    "rows_number=int.from_bytes(file_content[8:12], byteorder='big')\n",
    "print ('Number of rows: %d' % rows_number)"
   ]
  },
  {
   "cell_type": "code",
   "execution_count": 6,
   "metadata": {},
   "outputs": [
    {
     "name": "stdout",
     "output_type": "stream",
     "text": [
      "Number of columns: 28\n"
     ]
    }
   ],
   "source": [
    "#Number of columns should be from 12 to 16\n",
    "columns_number=int.from_bytes(file_content[12:16], byteorder='big')\n",
    "print ('Number of columns: %d' % columns_number)"
   ]
  },
  {
   "cell_type": "markdown",
   "metadata": {},
   "source": [
    "The pixels are from byte 16 until the end of the file. Each 784 batch is a picture(28*28)\n"
   ]
  },
  {
   "cell_type": "markdown",
   "metadata": {},
   "source": [
    "### Read the data into an array\n",
    "\n",
    "The esiest way to read the bytes is to do a while loop. The loop has to start from position 16 as until this position the bytes are set for metadata purpose. \n",
    "\n",
    "The while loop should run until the last byte is consumed, therefore it runs until the size of the ```file_content``` byte array.\n",
    "\n",
    "The iteration step is the size of the number of columns in a picture array: 28.\n",
    "\n",
    "Slices of bytes are taken and converted to int at each iteration from ```file_content```. This converted array is added to a row and the row counter is updated. \n",
    "\n",
    "Once a the row counter exceeds the size of pixel rows of each pixel it is reset to the first row and the picture counter is increased by one."
   ]
  },
  {
   "cell_type": "code",
   "execution_count": 20,
   "metadata": {},
   "outputs": [],
   "source": [
    "#Import numpy for creating the base array\n",
    "import numpy as np;\n",
    "#Function taking the file content,number of pictures, number of columns, number of rows and the starting offset\n",
    "#It converst the file content byte by byte into an int and collects it into a 3D array and returns the array\n",
    "def load_pictures_to_array(file_content,pictures_number,columns_number,rows_number,offset):\n",
    "    # Set up an array for picture storage\n",
    "    pictures=np.zeros((pictures_number,rows_number,columns_number),dtype=int)\n",
    "    #The current row a picture 1-28\n",
    "    current_row=1\n",
    "    #The current picture 1-59999\n",
    "    current_image=0\n",
    "    #The iteration index\n",
    "    i=offset\n",
    "    #Run a loop until the end of the byte array    \n",
    "    while i<len(file_content):\n",
    "        #Convert a row to int types\n",
    "        a=np.frombuffer(file_content[i:i+columns_number],dtype=np.uint8)\n",
    "        #Set the row the current picture\n",
    "        pictures[current_image][current_row-1]=a\n",
    "        #Go to next row\n",
    "        current_row+=1\n",
    "        #If the current row is the same as the size of the rows\n",
    "        if(current_row>rows_number):\n",
    "            #Set the row to number 1\n",
    "            current_row=1\n",
    "            #Go to the next picture\n",
    "            current_image+=1\n",
    "        #Increase the counter with the size of the columns    \n",
    "        i+=columns_number\n",
    "    return pictures"
   ]
  },
  {
   "cell_type": "code",
   "execution_count": 21,
   "metadata": {},
   "outputs": [
    {
     "name": "stdout",
     "output_type": "stream",
     "text": [
      "Original content length:47040016\n",
      "Run for 2.28122615814209 seconds.\n"
     ]
    }
   ],
   "source": [
    "#Import time for the speed measurement\n",
    "import time\n",
    "\n",
    "#Print out the size of file_content\n",
    "print('Original content length:'+str(len(file_content)))\n",
    "#The starting time of the algorythm\n",
    "start_time = time.time()\n",
    "#Read pictures into an array\n",
    "training_pictures = load_pictures_to_array(file_content,pictures_number,columns_number,rows_number,16)\n",
    "\n",
    "#Print out the running time of the algorithm\n",
    "print(\"Run for %s seconds.\" % (time.time() - start_time))\n"
   ]
  },
  {
   "cell_type": "markdown",
   "metadata": {},
   "source": [
    "### Confirm data\n",
    "\n",
    "To confirm the data was read in correctly, ```matplotlib``` can be used. This library can plot an array of pixels as a picture.\n",
    "\n",
    "Three different item can be printed from three different position of the arrray. \n",
    "* The first one at index 0\n",
    "* The middle one at index 30000\n",
    "* The last one at index 59999\n",
    "\n",
    "If all three pictures are numbers at the same position on the picture, that means the reading was succesful and there wasn't shifting in the rows or columns."
   ]
  },
  {
   "cell_type": "code",
   "execution_count": 10,
   "metadata": {},
   "outputs": [
    {
     "data": {
      "image/png": "[encoded data removed]",
      "text/plain": [
       "<Figure size 432x288 with 1 Axes>"
      ]
     },
     "metadata": {
      "needs_background": "light"
     },
     "output_type": "display_data"
    },
    {
     "data": {
      "image/png": "[encoded data removed]",
      "text/plain": [
       "<Figure size 432x288 with 1 Axes>"
      ]
     },
     "metadata": {
      "needs_background": "light"
     },
     "output_type": "display_data"
    },
    {
     "data": {
      "image/png": "[encoded data removed]",
      "text/plain": [
       "<Figure size 432x288 with 1 Axes>"
      ]
     },
     "metadata": {
      "needs_background": "light"
     },
     "output_type": "display_data"
    }
   ],
   "source": [
    "#Inlince complant for jupyter compatibility\n",
    "%matplotlib inline \n",
    "#Import matplotlib \n",
    "from matplotlib import pyplot as plt\n",
    "#Set pyplot to gray scale as the pixels are 0 to 255 on graye scale\n",
    "plt.gray()\n",
    "#Plot the first image\n",
    "plt.imshow(training_pictures[0], interpolation='nearest')\n",
    "plt.show()\n",
    "#Plot the middle image\n",
    "plt.imshow(training_pictures[30000], interpolation='nearest')\n",
    "plt.show()\n",
    "#Plot the last image\n",
    "plt.imshow(training_pictures[59999], interpolation='nearest')\n",
    "plt.show()"
   ]
  },
  {
   "cell_type": "markdown",
   "metadata": {},
   "source": [
    "# Read the labels for the training images\n",
    "The file has to be read as big endian. The first four bite is the magic number which identifies the fyle type.\n",
    "The data in this file is an array:\n",
    "* Bytes 5 to 8 is the number of labels in the datatset (The size of the outer array)\n",
    "* From byte 9 until the end of the file each byte is a label."
   ]
  },
  {
   "cell_type": "markdown",
   "metadata": {},
   "source": [
    "### Open the file"
   ]
  },
  {
   "cell_type": "code",
   "execution_count": 63,
   "metadata": {
    "scrolled": true
   },
   "outputs": [
    {
     "name": "stdout",
     "output_type": "stream",
     "text": [
      "File read in\n"
     ]
    }
   ],
   "source": [
    "#Download the file\n",
    "inmemory_file=urlopen('http://yann.lecun.com/exdb/mnist/train-labels-idx1-ubyte.gz').read()\n",
    "#Open the file\n",
    "with gzip.open(io.BytesIO(inmemory_file),'rb') as f:\n",
    "    #Overides the previously used file_content\n",
    "    file_content = f.read() \n",
    "print('File read in')"
   ]
  },
  {
   "cell_type": "markdown",
   "metadata": {},
   "source": [
    "### Do byte confirmation and read the first 8 bytes"
   ]
  },
  {
   "cell_type": "code",
   "execution_count": 64,
   "metadata": {},
   "outputs": [
    {
     "name": "stdout",
     "output_type": "stream",
     "text": [
      "Is the magic number correct: True\n"
     ]
    }
   ],
   "source": [
    "#Confirm if the first four byteis 2049\n",
    "is_it_the_right_bytes=int.from_bytes(file_content[0:4], byteorder='big')==2049\n",
    "print('Is the magic number correct: %r' % is_it_the_right_bytes)"
   ]
  },
  {
   "cell_type": "code",
   "execution_count": 16,
   "metadata": {
    "scrolled": false
   },
   "outputs": [
    {
     "name": "stdout",
     "output_type": "stream",
     "text": [
      "Number of Labels: 60000\n"
     ]
    }
   ],
   "source": [
    "#Number of pictures should be from bytes 4 to 8 and should be read in big endian\n",
    "label_number=int.from_bytes(file_content[4:8], byteorder='big')\n",
    "print('Number of Labels: %d' % label_number)"
   ]
  },
  {
   "cell_type": "markdown",
   "metadata": {},
   "source": [
    "### Read the data into an array\n",
    "\n",
    "The reading happens the same way as the reading of pictures. This time a simple int array is loaded in."
   ]
  },
  {
   "cell_type": "code",
   "execution_count": 17,
   "metadata": {},
   "outputs": [],
   "source": [
    "#Function taking the file content,number of labels, and the starting offset\n",
    "#It converst the file content byte by byte into an int and collects it into an array and returns the array\n",
    "def load_labels_to_array(file_content,label_number,offset=0):\n",
    "    # Collect the files into an array.\n",
    "    labels=np.frombuffer(file_content[offset:label_number+offset],dtype=np.uint8)\n",
    "    return labels"
   ]
  },
  {
   "cell_type": "code",
   "execution_count": 18,
   "metadata": {},
   "outputs": [
    {
     "name": "stdout",
     "output_type": "stream",
     "text": [
      "Origonal content length:47040016\n",
      "Run for 0.0 seconds.\n"
     ]
    }
   ],
   "source": [
    "#Print out the size of file_content\n",
    "print('Origonal content length:'+str(len(file_content)))\n",
    "#The starting time of the algorythm\n",
    "start_time = time.time()\n",
    "#Convert label bytes to numbers and collect to an array\n",
    "training_labels=load_labels_to_array(file_content,label_number,8)\n",
    "#Print out the running time of the algorithm\n",
    "print(\"Run for %s seconds.\" % (time.time() - start_time))"
   ]
  },
  {
   "cell_type": "markdown",
   "metadata": {},
   "source": [
    "### Confirm data\n",
    "\n",
    "To confirm the data was read in correctly, the same indexes should be checked in the label array as in the training picture array:\n",
    "\n",
    "Three different item can be printed from three different positions of the arrray. \n",
    "* The first one at index 0\n",
    "* The middle one at index 30000\n",
    "* The last one at index 59999\n",
    "\n",
    "If all three numbers are the same numbers as the pictures presented above then the conversion was succesful."
   ]
  },
  {
   "cell_type": "code",
   "execution_count": 19,
   "metadata": {
    "scrolled": true
   },
   "outputs": [
    {
     "name": "stdout",
     "output_type": "stream",
     "text": [
      "Number of labels: 60000\n",
      "Label at index 0: 0\n",
      "Label at index 30000: 0\n",
      "Label at index 59999: 87\n"
     ]
    }
   ],
   "source": [
    "print(\"Number of labels: %d\" % len(training_labels))\n",
    "print(\"Label at index 0: %d\" % training_labels[0])\n",
    "print(\"Label at index 30000: %d\" % training_labels[30000])\n",
    "print(\"Label at index 59999: %d\" % training_labels[59999])"
   ]
  },
  {
   "cell_type": "markdown",
   "metadata": {},
   "source": [
    "# Read the test image file\n",
    "This file is the same format as the training image file.\n",
    "The data in this file is a 3 dimensional array:\n",
    "* Bytes 4 to 8 is the number of pictures in the datatset (The size of the outer array)\n",
    "* Bytes 8 to 12 is the number of rows (Size of the middle array) \n",
    "* Bytes 12 to 16 is the number of collumns (Size of the last array)\n",
    "* From byte 16 until the end of the file are the pizels of the picures."
   ]
  },
  {
   "cell_type": "markdown",
   "metadata": {},
   "source": [
    "### Open the file"
   ]
  },
  {
   "cell_type": "markdown",
   "metadata": {},
   "source": [
    "#### Open a url to download the file and open the downloaded gzip file"
   ]
  },
  {
   "cell_type": "code",
   "execution_count": 50,
   "metadata": {},
   "outputs": [
    {
     "name": "stdout",
     "output_type": "stream",
     "text": [
      "File read in\n"
     ]
    }
   ],
   "source": [
    "#Download the file\n",
    "inmemory_file=urlopen('http://yann.lecun.com/exdb/mnist/t10k-images-idx3-ubyte.gz').read()\n",
    "#Open the file\n",
    "with gzip.open(io.BytesIO(inmemory_file),'rb') as f:\n",
    "    #Overides the previously used file_content\n",
    "    file_content = f.read()\n",
    "print('File read in')"
   ]
  },
  {
   "cell_type": "markdown",
   "metadata": {},
   "source": [
    "### Do byte confirmation and read the first 16 bytes"
   ]
  },
  {
   "cell_type": "code",
   "execution_count": 51,
   "metadata": {},
   "outputs": [
    {
     "name": "stdout",
     "output_type": "stream",
     "text": [
      "Is the magic number correct: True\n"
     ]
    }
   ],
   "source": [
    "#Confirm if the first four byteis 2051\n",
    "is_it_the_right_bytes=int.from_bytes(file_content[0:4], byteorder='big')==2051\n",
    "print('Is the magic number correct: %r' % is_it_the_right_bytes)"
   ]
  },
  {
   "cell_type": "code",
   "execution_count": 53,
   "metadata": {},
   "outputs": [
    {
     "name": "stdout",
     "output_type": "stream",
     "text": [
      "Number of pictures: 10000\n"
     ]
    }
   ],
   "source": [
    "#Number of pictures should be from bytes 4 to 8 and should be read in big endian\n",
    "test_pictures_number=int.from_bytes(file_content[4:8], byteorder='big')\n",
    "print('Number of pictures: %d' % test_pictures_number)"
   ]
  },
  {
   "cell_type": "code",
   "execution_count": 54,
   "metadata": {},
   "outputs": [
    {
     "name": "stdout",
     "output_type": "stream",
     "text": [
      "Number of rows: 28\n"
     ]
    }
   ],
   "source": [
    "#Number of rows should be from 8 to 12\n",
    "test_rows_number=int.from_bytes(file_content[8:12], byteorder='big')\n",
    "print ('Number of rows: %d' % test_rows_number)"
   ]
  },
  {
   "cell_type": "code",
   "execution_count": 55,
   "metadata": {},
   "outputs": [
    {
     "name": "stdout",
     "output_type": "stream",
     "text": [
      "Number of columns: 28\n"
     ]
    }
   ],
   "source": [
    "#Number of columns should be from 12 to 16\n",
    "test_columns_number=int.from_bytes(file_content[12:16], byteorder='big')\n",
    "print ('Number of columns: %d' % test_columns_number)"
   ]
  },
  {
   "cell_type": "markdown",
   "metadata": {},
   "source": [
    "The pixels are from byte 16 until the end of the file. Each 784 batch is a picture(28*28)\n"
   ]
  },
  {
   "cell_type": "markdown",
   "metadata": {},
   "source": [
    "### Read the data into an array\n",
    "\n",
    "The reading is done with the above defined function the exact same way as the reading of training images."
   ]
  },
  {
   "cell_type": "code",
   "execution_count": 58,
   "metadata": {},
   "outputs": [
    {
     "name": "stdout",
     "output_type": "stream",
     "text": [
      "Content length:7840016\n",
      "Run for 0.8933169841766357 seconds.\n"
     ]
    }
   ],
   "source": [
    "#Print out the size of file_content\n",
    "print('Origonal content length:'+str(len(file_content)))\n",
    "#The starting time of the algorythm\n",
    "start_time = time.time()\n",
    "#Read pictures into an array\n",
    "test_pictures = load_pictures_to_array(file_content,test_pictures_number,test_columns_number,test_rows_number,16)\n",
    "#Print out the running time of the algorithm\n",
    "print(\"Run for %s seconds.\" % (time.time() - start_time))\n"
   ]
  },
  {
   "cell_type": "markdown",
   "metadata": {},
   "source": [
    "### Confirm data\n",
    "\n",
    "To confirm the data was read in correctly, ```matplotlib``` can be used the same way as above with the training data set. \n",
    "\n",
    "Three different item can be printed from three different positions of the arrray. \n",
    "* The first one at index 0\n",
    "* The middle one at index 5000\n",
    "* The last one at index 9999\n"
   ]
  },
  {
   "cell_type": "code",
   "execution_count": 62,
   "metadata": {},
   "outputs": [
    {
     "data": {
      "image/png": "[encoded data removed]",
      "text/plain": [
       "<Figure size 432x288 with 1 Axes>"
      ]
     },
     "metadata": {
      "needs_background": "light"
     },
     "output_type": "display_data"
    },
    {
     "data": {
      "image/png": "[encoded data removed]",
      "text/plain": [
       "<Figure size 432x288 with 1 Axes>"
      ]
     },
     "metadata": {
      "needs_background": "light"
     },
     "output_type": "display_data"
    },
    {
     "data": {
      "image/png": "[encoded data removed]",
      "text/plain": [
       "<Figure size 432x288 with 1 Axes>"
      ]
     },
     "metadata": {
      "needs_background": "light"
     },
     "output_type": "display_data"
    }
   ],
   "source": [
    "#Plot the first image\n",
    "plt.imshow(test_pictures[0], interpolation='nearest')\n",
    "plt.show()\n",
    "#Plot the middle image\n",
    "plt.imshow(test_pictures[5000], interpolation='nearest')\n",
    "plt.show()\n",
    "#Plot the last image\n",
    "plt.imshow(test_pictures[9999], interpolation='nearest')\n",
    "plt.show()"
   ]
  },
  {
   "cell_type": "markdown",
   "metadata": {},
   "source": [
    "# Read the labels for the test images\n",
    "This file is the same format as the training label file.\n",
    "The data in this file is an array:\n",
    "* Bytes 5 to 8 is the number of labels in the datatset (The size of the outer array)\n",
    "* From byte 9 until the end of the file each byte is a label."
   ]
  },
  {
   "cell_type": "markdown",
   "metadata": {},
   "source": [
    "### Open the file"
   ]
  },
  {
   "cell_type": "code",
   "execution_count": 69,
   "metadata": {
    "scrolled": true
   },
   "outputs": [
    {
     "name": "stdout",
     "output_type": "stream",
     "text": [
      "File read in\n"
     ]
    }
   ],
   "source": [
    "#Download the file\n",
    "inmemory_file=urlopen('http://yann.lecun.com/exdb/mnist/t10k-labels-idx1-ubyte.gz').read()\n",
    "#Open the file\n",
    "with gzip.open(io.BytesIO(inmemory_file),'rb') as f:\n",
    "    #Overides the previously used file_content\n",
    "    file_content = f.read() \n",
    "print('File read in')"
   ]
  },
  {
   "cell_type": "markdown",
   "metadata": {},
   "source": [
    "### Do byte confirmation and read the first 8 bytes"
   ]
  },
  {
   "cell_type": "code",
   "execution_count": 70,
   "metadata": {},
   "outputs": [
    {
     "name": "stdout",
     "output_type": "stream",
     "text": [
      "Is the magic number correct: True\n"
     ]
    }
   ],
   "source": [
    "#Confirm if the first four byteis 2049\n",
    "is_it_the_right_bytes=int.from_bytes(file_content[0:4], byteorder='big')==2049\n",
    "print('Is the magic number correct: %r' % is_it_the_right_bytes)"
   ]
  },
  {
   "cell_type": "code",
   "execution_count": 71,
   "metadata": {
    "scrolled": false
   },
   "outputs": [
    {
     "name": "stdout",
     "output_type": "stream",
     "text": [
      "Number of Labels: 10000\n"
     ]
    }
   ],
   "source": [
    "#Number of pictures should be from bytes 4 to 8 and should be read in big endian\n",
    "label_number=int.from_bytes(file_content[4:8], byteorder='big')\n",
    "print('Number of Labels: %d' % label_number)"
   ]
  },
  {
   "cell_type": "markdown",
   "metadata": {},
   "source": [
    "### Read the data into an array\n",
    "\n",
    "The reading is done with the above defined function the exact same way as the reading of training labels."
   ]
  },
  {
   "cell_type": "code",
   "execution_count": 79,
   "metadata": {},
   "outputs": [
    {
     "name": "stdout",
     "output_type": "stream",
     "text": [
      "Origonal content length:10008\n",
      "Run for 0.0 seconds.\n"
     ]
    }
   ],
   "source": [
    "#Print out the size of file_content\n",
    "print('Origonal content length:'+str(len(file_content)))\n",
    "#The starting time of the algorythm\n",
    "start_time = time.time()\n",
    "#Convert label bytes to numbers and collect to an array\n",
    "test_labels=load_labels_to_array(file_content,label_number,8)\n",
    "#Print out the running time of the algorithm\n",
    "print(\"Run for %s seconds.\" % (time.time() - start_time))"
   ]
  },
  {
   "cell_type": "markdown",
   "metadata": {},
   "source": [
    "### Confirm data\n",
    "\n",
    "To confirm the data was read in correctly, the same indexes should be checked in the label array as in the training picture array:\n",
    "\n",
    "Three different item can be printed from three different positions of the arrray. \n",
    "* The first one at index 0\n",
    "* The middle one at index 30000\n",
    "* The last one at index 59999\n",
    "\n",
    "If all three numbers are the same numbers as the pictures presented above then the conversion was succesful."
   ]
  },
  {
   "cell_type": "code",
   "execution_count": 80,
   "metadata": {
    "scrolled": true
   },
   "outputs": [
    {
     "name": "stdout",
     "output_type": "stream",
     "text": [
      "Number of labels: 10000\n",
      "Label at index 0: 7\n",
      "Label at index 30000: 3\n",
      "Label at index 59999: 6\n"
     ]
    }
   ],
   "source": [
    "print(\"Number of labels: %d\" % len(test_labels))\n",
    "print(\"Label at index 0: %d\" % test_labels[0])\n",
    "print(\"Label at index 30000: %d\" % test_labels[5000])\n",
    "print(\"Label at index 59999: %d\" % test_labels[9999])"
   ]
  },
  {
   "cell_type": "markdown",
   "metadata": {},
   "source": [
    "# Conclusion\n",
    "The four files can be read in easily and efficiently with a single loop for each file.\n",
    "\n",
    "Could be further optimized if the same loop is used for picture and label reading. That way two loops could be used for the four files. \n",
    "\n",
    "The first loop would run 60000*28*28 (47040000) times and the second loop would run 10000*28*28 (7840000) times. The conversion would be for each index individually with tracking the row and column numbers. At the same time the label could be read for every 748th index. Meaning the label conversion would not happen in every iteration just when a new image's last pixel is converted. \n",
    "\n",
    "This approach obviously would be more efficient, however I chose to separate the image and label reading as it is better demonstrated separate."
   ]
  }
 ],
 "metadata": {
  "kernelspec": {
   "display_name": "Python 3",
   "language": "python",
   "name": "python3"
  },
  "language_info": {
   "codemirror_mode": {
    "name": "ipython",
    "version": 3
   },
   "file_extension": ".py",
   "mimetype": "text/x-python",
   "name": "python",
   "nbconvert_exporter": "python",
   "pygments_lexer": "ipython3",
   "version": "3.7.0"
  }
 },
 "nbformat": 4,
 "nbformat_minor": 2
}
